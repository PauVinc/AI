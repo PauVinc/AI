{
 "cells": [
  {
   "cell_type": "code",
   "execution_count": 1,
   "id": "4bb2e1d9",
   "metadata": {},
   "outputs": [],
   "source": [
    "import pandas as pd\n",
    "from sklearn.metrics.pairwise import cosine_similarity\n",
    "from sklearn.model_selection import train_test_split\n"
   ]
  },
  {
   "cell_type": "code",
   "execution_count": 3,
   "id": "b7e730e9",
   "metadata": {},
   "outputs": [],
   "source": [
    "_df = pd.read_csv(r\"C:\\Users\\Paurvi Vinchurkar\\Desktop\\goodreads\\books.csv\",  on_bad_lines='skip')\n"
   ]
  },
  {
   "cell_type": "code",
   "execution_count": 11,
   "id": "9e27946c",
   "metadata": {
    "scrolled": true
   },
   "outputs": [
    {
     "name": "stdout",
     "output_type": "stream",
     "text": [
      "   bookID                                              title  \\\n",
      "0       1  Harry Potter and the Half-Blood Prince (Harry ...   \n",
      "1       2  Harry Potter and the Order of the Phoenix (Har...   \n",
      "2       4  Harry Potter and the Chamber of Secrets (Harry...   \n",
      "3       5  Harry Potter and the Prisoner of Azkaban (Harr...   \n",
      "4       8  Harry Potter Boxed Set  Books 1-5 (Harry Potte...   \n",
      "\n",
      "                      authors  average_rating        isbn         isbn13  \\\n",
      "0  J.K. Rowling/Mary GrandPré            4.57  0439785960  9780439785969   \n",
      "1  J.K. Rowling/Mary GrandPré            4.49  0439358078  9780439358071   \n",
      "2                J.K. Rowling            4.42  0439554896  9780439554893   \n",
      "3  J.K. Rowling/Mary GrandPré            4.56  043965548X  9780439655484   \n",
      "4  J.K. Rowling/Mary GrandPré            4.78  0439682584  9780439682589   \n",
      "\n",
      "  language_code    num_pages  ratings_count  text_reviews_count  \\\n",
      "0           eng          652        2095690               27591   \n",
      "1           eng          870        2153167               29221   \n",
      "2           eng          352           6333                 244   \n",
      "3           eng          435        2339585               36325   \n",
      "4           eng         2690          41428                 164   \n",
      "\n",
      "  publication_date        publisher  \n",
      "0        9/16/2006  Scholastic Inc.  \n",
      "1         9/1/2004  Scholastic Inc.  \n",
      "2        11/1/2003       Scholastic  \n",
      "3         5/1/2004  Scholastic Inc.  \n",
      "4        9/13/2004       Scholastic  \n"
     ]
    }
   ],
   "source": [
    "print(df.head())"
   ]
  },
  {
   "cell_type": "code",
   "execution_count": 12,
   "id": "331263fb",
   "metadata": {},
   "outputs": [],
   "source": [
    "user_book_matrix = df.pivot(index='bookID', columns='title', values='average_rating').fillna(0)"
   ]
  },
  {
   "cell_type": "code",
   "execution_count": 13,
   "id": "bb7a42a3",
   "metadata": {},
   "outputs": [
    {
     "name": "stdout",
     "output_type": "stream",
     "text": [
      "title     said the shotgun to the head.  \\\n",
      "bookID                                    \n",
      "1                                   0.0   \n",
      "2                                   0.0   \n",
      "4                                   0.0   \n",
      "5                                   0.0   \n",
      "8                                   0.0   \n",
      "...                                 ...   \n",
      "45631                               0.0   \n",
      "45633                               0.0   \n",
      "45634                               0.0   \n",
      "45639                               0.0   \n",
      "45641                               0.0   \n",
      "\n",
      "title   $30 Film School: How to Write  Direct  Produce  Shoot  Edit  Distribute  Tour With  and Sell Your Own No-Budget Digital Movie  \\\n",
      "bookID                                                                                                                                  \n",
      "1                                                     0.0                                                                               \n",
      "2                                                     0.0                                                                               \n",
      "4                                                     0.0                                                                               \n",
      "5                                                     0.0                                                                               \n",
      "8                                                     0.0                                                                               \n",
      "...                                                   ...                                                                               \n",
      "45631                                                 0.0                                                                               \n",
      "45633                                                 0.0                                                                               \n",
      "45634                                                 0.0                                                                               \n",
      "45639                                                 0.0                                                                               \n",
      "45641                                                 0.0                                                                               \n",
      "\n",
      "title   'Salem's Lot  1 000 Places to See Before You Die  10 lb Penalty  \\\n",
      "bookID                                                                    \n",
      "1                0.0                                 0.0            0.0   \n",
      "2                0.0                                 0.0            0.0   \n",
      "4                0.0                                 0.0            0.0   \n",
      "5                0.0                                 0.0            0.0   \n",
      "8                0.0                                 0.0            0.0   \n",
      "...              ...                                 ...            ...   \n",
      "45631            0.0                                 0.0            0.0   \n",
      "45633            0.0                                 0.0            0.0   \n",
      "45634            0.0                                 0.0            0.0   \n",
      "45639            0.0                                 0.0            0.0   \n",
      "45641            0.0                                 0.0            0.0   \n",
      "\n",
      "title   100 Great Fantasy Short Short Stories  100 Love Sonnets  \\\n",
      "bookID                                                            \n",
      "1                                         0.0               0.0   \n",
      "2                                         0.0               0.0   \n",
      "4                                         0.0               0.0   \n",
      "5                                         0.0               0.0   \n",
      "8                                         0.0               0.0   \n",
      "...                                       ...               ...   \n",
      "45631                                     0.0               0.0   \n",
      "45633                                     0.0               0.0   \n",
      "45634                                     0.0               0.0   \n",
      "45639                                     0.0               0.0   \n",
      "45641                                     0.0               0.0   \n",
      "\n",
      "title   100 Years of Lynchings  1000 Record Covers  \\\n",
      "bookID                                               \n",
      "1                          0.0                 0.0   \n",
      "2                          0.0                 0.0   \n",
      "4                          0.0                 0.0   \n",
      "5                          0.0                 0.0   \n",
      "8                          0.0                 0.0   \n",
      "...                        ...                 ...   \n",
      "45631                      0.0                 0.0   \n",
      "45633                      0.0                 0.0   \n",
      "45634                      0.0                 0.0   \n",
      "45639                      0.0                 0.0   \n",
      "45641                      0.0                 0.0   \n",
      "\n",
      "title   1000 Rings: Inspiring Adornments for the Hand  ...  鋼之鍊金術師 1  \\\n",
      "bookID                                                 ...             \n",
      "1                                                 0.0  ...       0.0   \n",
      "2                                                 0.0  ...       0.0   \n",
      "4                                                 0.0  ...       0.0   \n",
      "5                                                 0.0  ...       0.0   \n",
      "8                                                 0.0  ...       0.0   \n",
      "...                                               ...  ...       ...   \n",
      "45631                                             0.0  ...       0.0   \n",
      "45633                                             0.0  ...       0.0   \n",
      "45634                                             0.0  ...       0.0   \n",
      "45639                                             0.0  ...       0.0   \n",
      "45641                                             0.0  ...       0.0   \n",
      "\n",
      "title   鋼之鍊金術師 10  鋼之鍊金術師 2  鋼之鍊金術師 4  鋼之鍊金術師 5  鋼之鍊金術師 6  鋼之鍊金術師 7  鋼之鍊金術師 9  \\\n",
      "bookID                                                                          \n",
      "1             0.0       0.0       0.0       0.0       0.0       0.0       0.0   \n",
      "2             0.0       0.0       0.0       0.0       0.0       0.0       0.0   \n",
      "4             0.0       0.0       0.0       0.0       0.0       0.0       0.0   \n",
      "5             0.0       0.0       0.0       0.0       0.0       0.0       0.0   \n",
      "8             0.0       0.0       0.0       0.0       0.0       0.0       0.0   \n",
      "...           ...       ...       ...       ...       ...       ...       ...   \n",
      "45631         0.0       0.0       0.0       0.0       0.0       0.0       0.0   \n",
      "45633         0.0       0.0       0.0       0.0       0.0       0.0       0.0   \n",
      "45634         0.0       0.0       0.0       0.0       0.0       0.0       0.0   \n",
      "45639         0.0       0.0       0.0       0.0       0.0       0.0       0.0   \n",
      "45641         0.0       0.0       0.0       0.0       0.0       0.0       0.0   \n",
      "\n",
      "title   魔戒二部曲：雙城奇謀  魔戒首部曲：魔戒現身  \n",
      "bookID                          \n",
      "1              0.0         0.0  \n",
      "2              0.0         0.0  \n",
      "4              0.0         0.0  \n",
      "5              0.0         0.0  \n",
      "8              0.0         0.0  \n",
      "...            ...         ...  \n",
      "45631          0.0         0.0  \n",
      "45633          0.0         0.0  \n",
      "45634          0.0         0.0  \n",
      "45639          0.0         0.0  \n",
      "45641          0.0         0.0  \n",
      "\n",
      "[11123 rows x 10348 columns]\n"
     ]
    }
   ],
   "source": [
    "print(user_book_matrix)"
   ]
  },
  {
   "cell_type": "code",
   "execution_count": 19,
   "id": "2ad33978",
   "metadata": {},
   "outputs": [
    {
     "name": "stdout",
     "output_type": "stream",
     "text": [
      "Index(['  said the shotgun to the head.',\n",
      "       '$30 Film School: How to Write  Direct  Produce  Shoot  Edit  Distribute  Tour With  and Sell Your Own No-Budget Digital Movie',\n",
      "       ''Salem's Lot', '1 000 Places to See Before You Die', '10 lb Penalty',\n",
      "       '100 Great Fantasy Short Short Stories', '100 Love Sonnets',\n",
      "       '100 Years of Lynchings', '1000 Record Covers',\n",
      "       '1000 Rings: Inspiring Adornments for the Hand',\n",
      "       ...\n",
      "       '鋼之鍊金術師 1', '鋼之鍊金術師 10', '鋼之鍊金術師 2', '鋼之鍊金術師 4', '鋼之鍊金術師 5', '鋼之鍊金術師 6',\n",
      "       '鋼之鍊金術師 7', '鋼之鍊金術師 9', '魔戒二部曲：雙城奇謀', '魔戒首部曲：魔戒現身'],\n",
      "      dtype='object', name='title', length=10348)\n"
     ]
    }
   ],
   "source": [
    "print(user_book_matrix.columns)\n"
   ]
  },
  {
   "cell_type": "code",
   "execution_count": 14,
   "id": "b45a7ec5",
   "metadata": {},
   "outputs": [],
   "source": [
    "book_similarity = cosine_similarity(user_book_matrix)"
   ]
  },
  {
   "cell_type": "code",
   "execution_count": 15,
   "id": "928d8ed5",
   "metadata": {},
   "outputs": [],
   "source": [
    "def recommend_books(book_title, book_similarity, num_recommendations=5):\n",
    "    # Get the index of the target book\n",
    "    book_index = user_book_matrix.columns.get_loc(book_title)\n",
    "    \n",
    "    # Get the similarity scores for the target book\n",
    "    similar_books = book_similarity[book_index]\n",
    "    \n",
    "    # Sort books based on similarity scores\n",
    "    sorted_books = sorted(list(enumerate(similar_books)), key=lambda x: x[1], reverse=True)\n",
    "    \n",
    "    # Get top N recommended books (excluding the target book)\n",
    "    recommendations = [user_book_matrix.columns[i] for i, _ in sorted_books[1:num_recommendations+1]]\n",
    "    \n",
    "    return recommendations\n"
   ]
  },
  {
   "cell_type": "code",
   "execution_count": 21,
   "id": "d8e4e7d6",
   "metadata": {},
   "outputs": [
    {
     "name": "stdout",
     "output_type": "stream",
     "text": [
      "Recommendations for 'The Catcher in the Rye': ['  said the shotgun to the head.', '$30 Film School: How to Write  Direct  Produce  Shoot  Edit  Distribute  Tour With  and Sell Your Own No-Budget Digital Movie', \"'Salem's Lot\", '1 000 Places to See Before You Die', '10 lb Penalty']\n"
     ]
    }
   ],
   "source": [
    "book_title_to_recommend = 'The Catcher in the Rye'\n",
    "recommendations = recommend_books(book_title_to_recommend, book_similarity)\n",
    "print(f\"Recommendations for '{book_title_to_recommend}': {recommendations}\")"
   ]
  },
  {
   "cell_type": "code",
   "execution_count": null,
   "id": "a45777d5",
   "metadata": {},
   "outputs": [],
   "source": []
  }
 ],
 "metadata": {
  "kernelspec": {
   "display_name": "Python 3 (ipykernel)",
   "language": "python",
   "name": "python3"
  },
  "language_info": {
   "codemirror_mode": {
    "name": "ipython",
    "version": 3
   },
   "file_extension": ".py",
   "mimetype": "text/x-python",
   "name": "python",
   "nbconvert_exporter": "python",
   "pygments_lexer": "ipython3",
   "version": "3.11.5"
  }
 },
 "nbformat": 4,
 "nbformat_minor": 5
}
